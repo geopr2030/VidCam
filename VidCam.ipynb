{
  "nbformat": 4,
  "nbformat_minor": 0,
  "metadata": {
    "colab": {
      "provenance": [],
      "authorship_tag": "ABX9TyOnlJXdgOVuIJt2Mx/G1kNc"
    },
    "kernelspec": {
      "name": "python3",
      "display_name": "Python 3"
    },
    "language_info": {
      "name": "python"
    }
  },
  "cells": [
    {
      "cell_type": "markdown",
      "source": [
        "Import Dependencies"
      ],
      "metadata": {
        "id": "nxrfTL9gnPid"
      }
    },
    {
      "cell_type": "code",
      "execution_count": null,
      "metadata": {
        "id": "cPXZIV_pnB4w"
      },
      "outputs": [],
      "source": [
        "#Import opencv\n",
        "import cv2\n",
        "import os\n",
        "from matplotlib import pyplot as plt\n"
      ]
    },
    {
      "cell_type": "markdown",
      "source": [
        "Setting up captures"
      ],
      "metadata": {
        "id": "zvfqnaltneKb"
      }
    },
    {
      "cell_type": "code",
      "source": [
        "os.path.join('xyz.mp4')"
      ],
      "metadata": {
        "colab": {
          "base_uri": "https://localhost:8080/",
          "height": 36
        },
        "id": "87koWx_ungPt",
        "outputId": "6a6169a9-24b9-4863-a8a1-ea980036d054"
      },
      "execution_count": null,
      "outputs": [
        {
          "output_type": "execute_result",
          "data": {
            "text/plain": [
              "'xyz.mp4'"
            ],
            "application/vnd.google.colaboratory.intrinsic+json": {
              "type": "string"
            }
          },
          "metadata": {},
          "execution_count": 2
        }
      ]
    },
    {
      "cell_type": "code",
      "source": [
        "cap=cv2.VideoCapture(os.path.join('xyz.mp4'))"
      ],
      "metadata": {
        "id": "9K70Zw2Xnmb0"
      },
      "execution_count": null,
      "outputs": []
    },
    {
      "cell_type": "code",
      "source": [
        "ret, frame = cap.read()"
      ],
      "metadata": {
        "id": "eVY-KwSan1rN"
      },
      "execution_count": null,
      "outputs": []
    }
  ]
}